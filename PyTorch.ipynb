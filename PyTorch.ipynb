{
 "cells": [
  {
   "cell_type": "code",
   "execution_count": 4,
   "metadata": {},
   "outputs": [],
   "source": [
    "%config IPCompleter.greedy = True"
   ]
  },
  {
   "cell_type": "code",
   "execution_count": 27,
   "metadata": {},
   "outputs": [],
   "source": [
    "import torch \n",
    "import torch.nn as nn \n",
    "import torch.nn.functional as F\n",
    "import torchvision \n",
    "from torchvision import transforms\n",
    "from torch.utils.data import DataLoader\n",
    "import torch.optim as optim\n",
    "\n",
    "import matplotlib.pyplot as plt\n",
    "import numpy as np\n",
    "import time"
   ]
  },
  {
   "cell_type": "code",
   "execution_count": 137,
   "metadata": {},
   "outputs": [],
   "source": [
    "device = torch.device(\"cuda:0\")"
   ]
  },
  {
   "cell_type": "code",
   "execution_count": 14,
   "metadata": {},
   "outputs": [],
   "source": [
    "transform = transforms.Compose([\n",
    "    transforms.ToTensor(),\n",
    "    transforms.Normalize((0.5, 0.5, 0.5), (0.5, 0.5, 0.5))\n",
    "])"
   ]
  },
  {
   "cell_type": "code",
   "execution_count": 133,
   "metadata": {},
   "outputs": [],
   "source": [
    "train_data = datasets.ImageFolder(root = \"data/training_set\", transform=transform)\n",
    "test_data = datasets.ImageFolder(root = \"data/test_set\", transform=transform)\n",
    "\n",
    "trainloader = DataLoader(train_data, shuffle = True, batch_size = 64, num_workers = 2)\n",
    "testloader = DataLoader(test_data, shuffle = True, batch_size = 64, num_workers = 2)"
   ]
  },
  {
   "cell_type": "code",
   "execution_count": 128,
   "metadata": {},
   "outputs": [
    {
     "data": {
      "image/png": "[encoded data removed]",
      "text/plain": [
       "<Figure size 432x288 with 1 Axes>"
      ]
     },
     "metadata": {
      "needs_background": "light"
     },
     "output_type": "display_data"
    },
    {
     "name": "stdout",
     "output_type": "stream",
     "text": [
      "tensor([1, 1, 0, 5, 3, 3, 2, 2, 4, 1, 2, 6, 3, 1, 3, 3, 6, 3, 3, 4, 1, 0, 1, 0,\n",
      "        0, 3, 6, 2, 6, 3, 5, 3, 0, 2, 5, 1, 3, 1, 1, 5, 3, 4, 2, 1, 6, 3, 0, 4,\n",
      "        4, 5, 2, 1, 5, 4, 6, 2, 2, 2, 3, 3, 6, 0, 1, 3])\n"
     ]
    }
   ],
   "source": [
    "def show_image(img):\n",
    "    img = img.numpy()\n",
    "    img = np.transpose(img, (1,2,0))\n",
    "    img = img*0.5 + 0.5\n",
    "    plt.imshow(img)\n",
    "    plt.show()\n",
    "\n",
    "trainiter = iter(trainloader)\n",
    "img, label = next(trainiter)\n",
    "\n",
    "show_image(torchvision.utils.make_grid(img))\n",
    "print(label)"
   ]
  },
  {
   "cell_type": "code",
   "execution_count": 129,
   "metadata": {},
   "outputs": [],
   "source": [
    "class model(nn.Module):\n",
    "    def __init__(self):\n",
    "        super(model, self).__init__()\n",
    "        self.conv1 = nn.Conv2d(3, 32, 3)\n",
    "        self.conv2 = nn.Conv2d(32, 64, 3)\n",
    "        \n",
    "        self.fc1 = nn.Linear(12544, 256)\n",
    "        self.dropout = nn.Dropout(p = 0.5)\n",
    "        self.fc2 = nn.Linear(256, 7)\n",
    "    \n",
    "    def forward(self, x):\n",
    "        x = F.max_pool2d(F.relu(self.conv1(x)), 2)\n",
    "        x = F.max_pool2d(F.relu(self.conv2(x)), 2)\n",
    "        \n",
    "        x = x.view(-1, self.num_features(x))\n",
    "        x = F.relu(self.fc1(x))\n",
    "        x = self.dropout(x)\n",
    "        x = F.softmax(self.fc2(x), dim = 1)\n",
    "        \n",
    "        return x\n",
    "    \n",
    "    def num_features(self, x):\n",
    "        out = 1\n",
    "        for i in x.size()[1:]:\n",
    "            out*=i\n",
    "        return out"
   ]
  },
  {
   "cell_type": "code",
   "execution_count": 130,
   "metadata": {},
   "outputs": [],
   "source": [
    "def give_model(model_name):\n",
    "    net = model_name()\n",
    "    net.to(device)\n",
    "    print(net)\n",
    "    return net"
   ]
  },
  {
   "cell_type": "code",
   "execution_count": 131,
   "metadata": {},
   "outputs": [],
   "source": [
    "def train_model(model, optimizer, epochs = 5):\n",
    "    start = time.time()\n",
    "    for epoch in range(epochs):\n",
    "        e_start = time.time()\n",
    "        print(f'Epoch - {epoch+1}/{epochs}')\n",
    "        print('-'*20)\n",
    "        for phase in ['train', 'eval']:\n",
    "            \n",
    "            running_loss = 0.0\n",
    "            running_correct = 0\n",
    "            \n",
    "            if phase == 'train':\n",
    "                model.train()\n",
    "                for data in trainloader:\n",
    "                    inputs, labels = data\n",
    "                    inputs, labels = inputs.to(device), labels.to(device)\n",
    "                    \n",
    "                    optimizer.zero_grad()\n",
    "                    output = model(inputs)\n",
    "                    _, pred = torch.max(output, 1)\n",
    "\n",
    "                    loss = criterion(output, labels)\n",
    "                    loss.backward()\n",
    "                    optimizer.step()\n",
    "                    \n",
    "                    running_loss += loss.item()\n",
    "                    running_correct += torch.sum(pred == labels.data)\n",
    "                    \n",
    "                epoch_loss = running_loss/len(train_data)\n",
    "                acc = (running_correct.double()/len(train_data))*100\n",
    "                \n",
    "            elif phase == 'eval':\n",
    "                model.eval()\n",
    "                with torch.no_grad():\n",
    "                    for data in testloader:\n",
    "                        inputs, labels = data\n",
    "                        inputs, labels = inputs.to(device), labels.to(device)\n",
    "\n",
    "                        optimizer.zero_grad()\n",
    "                        output = model(inputs)\n",
    "                        _, pred = torch.max(output, 1)\n",
    "\n",
    "                        loss = criterion(output, labels)\n",
    "                        \n",
    "                        running_loss += loss.item()\n",
    "                        running_correct += torch.sum(pred == labels.data)\n",
    "                        \n",
    "                    epoch_loss = running_loss/len(test_data)\n",
    "                    acc = (running_correct.double()/len(test_data))*100\n",
    "                    \n",
    "            e_end = time.time()-e_start\n",
    "            print(f'{phase}: loss - {epoch_loss:3.2f} acc - {acc:3.2f} , Time - {e_end:.2f}')\n",
    "    end = time.time() - start\n",
    "    print(f'Training time - {end:.2f}')\n",
    "    return model"
   ]
  },
  {
   "cell_type": "code",
   "execution_count": 138,
   "metadata": {},
   "outputs": [
    {
     "name": "stdout",
     "output_type": "stream",
     "text": [
      "model(\n",
      "  (conv1): Conv2d(3, 32, kernel_size=(3, 3), stride=(1, 1))\n",
      "  (conv2): Conv2d(32, 64, kernel_size=(3, 3), stride=(1, 1))\n",
      "  (fc1): Linear(in_features=12544, out_features=256, bias=True)\n",
      "  (dropout): Dropout(p=0.5)\n",
      "  (fc2): Linear(in_features=256, out_features=7, bias=True)\n",
      ")\n",
      "Epoch - 1/5\n",
      "--------------------\n",
      "train: loss - 0.03 acc - 56.51 , Time - 3.57\n",
      "eval: loss - 0.03 acc - 75.66 , Time - 4.20\n",
      "Epoch - 2/5\n",
      "--------------------\n",
      "train: loss - 0.02 acc - 89.60 , Time - 3.60\n",
      "eval: loss - 0.02 acc - 91.14 , Time - 4.26\n",
      "Epoch - 3/5\n",
      "--------------------\n",
      "train: loss - 0.02 acc - 95.90 , Time - 3.58\n",
      "eval: loss - 0.02 acc - 95.37 , Time - 4.27\n",
      "Epoch - 4/5\n",
      "--------------------\n",
      "train: loss - 0.02 acc - 97.17 , Time - 4.11\n",
      "eval: loss - 0.02 acc - 98.74 , Time - 4.80\n",
      "Epoch - 5/5\n",
      "--------------------\n",
      "train: loss - 0.02 acc - 98.58 , Time - 4.00\n",
      "eval: loss - 0.02 acc - 99.20 , Time - 4.66\n",
      "Training time - 22.19\n"
     ]
    }
   ],
   "source": [
    "net = give_model(model)\n",
    "criterion = nn.CrossEntropyLoss()\n",
    "optimizer = optim.SGD(net.parameters(), lr = 0.01)\n",
    "\n",
    "model_trained = train_model(net, optimizer, 5)"
   ]
  },
  {
   "cell_type": "code",
   "execution_count": 141,
   "metadata": {},
   "outputs": [
    {
     "name": "stderr",
     "output_type": "stream",
     "text": [
      "/home/user/anaconda3/lib/python3.7/site-packages/torch/serialization.py:256: UserWarning: Couldn't retrieve source code for container of type model. It won't be checked for correctness upon loading.\n",
      "  \"type \" + obj.__name__ + \". It won't be checked \"\n"
     ]
    }
   ],
   "source": [
    "torch.save(net, \"gesture.pt\")"
   ]
  },
  {
   "cell_type": "code",
   "execution_count": null,
   "metadata": {},
   "outputs": [],
   "source": []
  }
 ],
 "metadata": {
  "kernelspec": {
   "display_name": "Python 3",
   "language": "python",
   "name": "python3"
  },
  "language_info": {
   "codemirror_mode": {
    "name": "ipython",
    "version": 3
   },
   "file_extension": ".py",
   "mimetype": "text/x-python",
   "name": "python",
   "nbconvert_exporter": "python",
   "pygments_lexer": "ipython3",
   "version": "3.7.6"
  }
 },
 "nbformat": 4,
 "nbformat_minor": 4
}
