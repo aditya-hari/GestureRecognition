{
 "cells": [
  {
   "cell_type": "code",
   "execution_count": 4,
   "metadata": {},
   "outputs": [],
   "source": [
    "%config IPCompleter.greedy = True"
   ]
  },
  {
   "cell_type": "code",
   "execution_count": 27,
   "metadata": {},
   "outputs": [],
   "source": [
    "import torch \n",
    "import torch.nn as nn \n",
    "import torch.nn.functional as F\n",
    "import torchvision \n",
    "from torchvision import transforms\n",
    "from torch.utils.data import DataLoader\n",
    "import torch.optim as optim\n",
    "\n",
    "import matplotlib.pyplot as plt\n",
    "import numpy as np\n",
    "import time"
   ]
  },
  {
   "cell_type": "code",
   "execution_count": 9,
   "metadata": {},
   "outputs": [],
   "source": [
    "device = torch.device(\"cuda:0\")"
   ]
  },
  {
   "cell_type": "code",
   "execution_count": 14,
   "metadata": {},
   "outputs": [],
   "source": [
    "transform = transforms.Compose([\n",
    "    transforms.ToTensor(),\n",
    "    transforms.Normalize((0.5, 0.5, 0.5), (0.5, 0.5, 0.5))\n",
    "])"
   ]
  },
  {
   "cell_type": "code",
   "execution_count": 18,
   "metadata": {},
   "outputs": [],
   "source": [
    "train_data = datasets.ImageFolder(root = \"data/training_set\", transform=transform)\n",
    "test_data = datasets.ImageFolder(root = \"data/test_set\", transform=transform)\n",
    "\n",
    "trainloader = DataLoader(train_data, shuffle = True, batch_size = 16, num_workers = 4)\n",
    "testloader = DataLoader(test_data, shuffle = True, batch_size = 16, num_workers = 4)"
   ]
  },
  {
   "cell_type": "code",
   "execution_count": 23,
   "metadata": {},
   "outputs": [
    {
     "data": {
      "image/png": "[encoded data removed]",
      "text/plain": [
       "<Figure size 432x288 with 1 Axes>"
      ]
     },
     "metadata": {
      "needs_background": "light"
     },
     "output_type": "display_data"
    }
   ],
   "source": [
    "def show_image(img):\n",
    "    img = img.numpy()\n",
    "    img = np.transpose(img, (1,2,0))\n",
    "    img = img*0.5 + 0.5\n",
    "    plt.imshow(img)\n",
    "    plt.show()\n",
    "\n",
    "trainiter = iter(trainloader)\n",
    "img, label = next(trainiter)\n",
    "\n",
    "show_image(torchvision.utils.make_grid(img))"
   ]
  },
  {
   "cell_type": "code",
   "execution_count": 52,
   "metadata": {},
   "outputs": [],
   "source": [
    "class model(nn.Module):\n",
    "    def __init__(self):\n",
    "        super(model, self).__init__()\n",
    "        self.conv1 = nn.Conv2d(3, 32, 3)\n",
    "        self.conv2 = nn.Conv2d(32, 64, 3)\n",
    "        \n",
    "        self.fc1 = nn.Linear(12544, 256)\n",
    "        self.dropout = nn.Dropout(p = 0.5)\n",
    "        self.fc2 = nn.Linear(256, 7)\n",
    "    \n",
    "    def forward(self, x):\n",
    "        x = F.max_pool2d(F.relu(self.conv1(x)), 2)\n",
    "        x = F.max_pool2d(F.relu(self.conv2(x)), 2)\n",
    "        \n",
    "        x = x.view(-1, self.num_features(x))\n",
    "        x = F.relu(self.fc1(x))\n",
    "        x = self.dropout(x)\n",
    "        x = F.softmax(self.fc2(x))\n",
    "        \n",
    "        return x\n",
    "    \n",
    "    def num_features(self, x):\n",
    "        out = 1\n",
    "        for i in x.size()[1:]:\n",
    "            out*=i\n",
    "        return out"
   ]
  },
  {
   "cell_type": "code",
   "execution_count": 55,
   "metadata": {},
   "outputs": [],
   "source": [
    "def give_model(model_name):\n",
    "    net = mode_name()\n",
    "    net.to(device)\n",
    "    return net"
   ]
  },
  {
   "cell_type": "code",
   "execution_count": 50,
   "metadata": {},
   "outputs": [],
   "source": [
    "def train_model(model, optimizer, epochs = 5):\n",
    "    start = time.time()\n",
    "    for epoch in range(epochs):\n",
    "        e_start = time.time()\n",
    "        print(f'Epoch - {epoch+1}/{epochs}')\n",
    "        print('-'*20)\n",
    "        for phase in ['train', 'eval']:\n",
    "            \n",
    "            running_loss = 0.0\n",
    "            correct = 0\n",
    "            \n",
    "            if phase == 'train':\n",
    "                model.train()\n",
    "                for data in trainloader:\n",
    "                    inputs, labels = data\n",
    "                    inputs, labels = inputs.to(device), labels.to(device)\n",
    "                    \n",
    "                    optimizer.zero_grad()\n",
    "                    output = model(inputs)\n",
    "                    loss = criterion(output, labels)\n",
    "                    loss.backward()\n",
    "                    optimizer.step()\n",
    "                    \n",
    "                    running_loss += loss.item()\n",
    "                epoch_loss = running_loss/len(train_data)\n",
    "            elif phase == 'eval':\n",
    "                model.eval()\n",
    "                with torch.no_grad():\n",
    "                    for data in testloader:\n",
    "                        inputs, labels = data\n",
    "                        inputs, labels = inputs.to(device), labels.to(device)\n",
    "\n",
    "                        output = model(inputs)\n",
    "                        loss = criterion(output, labels)\n",
    "\n",
    "                        running_loss += loss.item()\n",
    "                        \n",
    "                    epoch_loss = running_loss/len(test_data)\n",
    "            e_end = time.time()-e_start\n",
    "            print(f'{phase} loss - {epoch_loss:.2f}, Time - {e_end:.2f}')\n",
    "    end = time.time() - start\n",
    "    print(f'Training time - {end:.2f}')\n",
    "    return model"
   ]
  },
  {
   "cell_type": "code",
   "execution_count": 56,
   "metadata": {},
   "outputs": [
    {
     "name": "stdout",
     "output_type": "stream",
     "text": [
      "Epoch - 1/5\n",
      "--------------------\n"
     ]
    },
    {
     "name": "stderr",
     "output_type": "stream",
     "text": [
      "/home/user/anaconda3/lib/python3.7/site-packages/ipykernel_launcher.py:18: UserWarning: Implicit dimension choice for softmax has been deprecated. Change the call to include dim=X as an argument.\n"
     ]
    },
    {
     "name": "stdout",
     "output_type": "stream",
     "text": [
      "train loss - 0.12, Time - 4.35\n",
      "eval loss - 0.12, Time - 4.94\n",
      "Epoch - 2/5\n",
      "--------------------\n",
      "train loss - 0.12, Time - 4.37\n",
      "eval loss - 0.12, Time - 5.02\n",
      "Epoch - 3/5\n",
      "--------------------\n",
      "train loss - 0.11, Time - 4.45\n",
      "eval loss - 0.10, Time - 5.07\n",
      "Epoch - 4/5\n",
      "--------------------\n",
      "train loss - 0.09, Time - 4.35\n",
      "eval loss - 0.08, Time - 5.00\n",
      "Epoch - 5/5\n",
      "--------------------\n",
      "train loss - 0.08, Time - 4.54\n",
      "eval loss - 0.08, Time - 5.23\n",
      "Training time - 25.25\n"
     ]
    }
   ],
   "source": [
    "net = give_model(model)\n",
    "\n",
    "criterion = nn.CrossEntropyLoss()\n",
    "optimizer = optim.SGD(net.parameters(), lr = 1e-3)\n",
    "\n",
    "model_trained = train_model(net, optimizer)"
   ]
  },
  {
   "cell_type": "code",
   "execution_count": null,
   "metadata": {},
   "outputs": [],
   "source": []
  }
 ],
 "metadata": {
  "kernelspec": {
   "display_name": "Python 3",
   "language": "python",
   "name": "python3"
  },
  "language_info": {
   "codemirror_mode": {
    "name": "ipython",
    "version": 3
   },
   "file_extension": ".py",
   "mimetype": "text/x-python",
   "name": "python",
   "nbconvert_exporter": "python",
   "pygments_lexer": "ipython3",
   "version": "3.7.6"
  }
 },
 "nbformat": 4,
 "nbformat_minor": 4
}
